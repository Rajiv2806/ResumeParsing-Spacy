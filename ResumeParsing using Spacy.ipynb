{
 "cells": [
  {
   "cell_type": "markdown",
   "id": "3d41cda7-8bdd-4e4d-b205-b199595b41ac",
   "metadata": {},
   "source": [
    "# Custom Entity Recognition - Resumes Parsing using Spacy"
   ]
  },
  {
   "cell_type": "markdown",
   "id": "1e206a00-1ca6-49b3-84e4-727302c2979d",
   "metadata": {},
   "source": [
    "we’re gonna focus on building a CV screening system using the spaCy library. The idea of a CV screening system is to highlight the important keywords in the CV which helps the process of the person reviewing it, or else we can further develop it to grade CVs by weighing it using the highlighted words in it. To implement this, we need to build a Named Entity Recognition model (NER).\n",
    "\n",
    "Before starting to code, let me briefly describe the NER model and the spaCy library.\n",
    "\n",
    "\n",
    "NER models are used to locate and name entities in a sequence which is helpful for our instance to locate the name, experience, skills, technologies etc. mentioned in a CV. Some people referred to the NER model as token classification (probably when it is a single component of a pipeline) because of its nature of assigning a class to each token in a sequence.\n",
    "\n",
    "spaCy library provides pre trained pipelines which support many languages. For the NER model spaCy used a framework known as “Embed. Encode. Attend. Predict”. For the people who are interested in learning in depth on this, you can refer these resources."
   ]
  },
  {
   "cell_type": "markdown",
   "id": "e5c72112-8dcf-4458-bb42-39ffdc407562",
   "metadata": {},
   "source": [
    "Article — https://explosion.ai/blog/deep-learning-formula-nlp\n",
    "    \n",
    "Video — https://www.youtube.com/watch?v=sqDHBH9IjRU&t=1254s\n",
    "\n",
    "Slides — https://github.com/explosion/talks/blob/master/2018-04-12_Embed-Encode-Attend-Predict.pdf\n",
    "\n",
    "Please remember from the newest version onwards they have utilized transformer architecture, which is one of the hottest topics in natural language processing and deep learning research areas."
   ]
  },
  {
   "cell_type": "markdown",
   "id": "d54597a1-5a4f-4afd-aab3-d1194b34e97c",
   "metadata": {},
   "source": [
    "Our dataset contains labels of:\n",
    "\n",
    "* Name\n",
    "* Hometown\n",
    "* Jobs — Job titles\n",
    "* Experience\n",
    "* Companies — Companies worked with\n",
    "* School/Institute\n",
    "* Skills\n",
    "* LinkedIn\n",
    "\n",
    "In the annotation process what we actually do is identify the word’s start and end position in the CV text."
   ]
  },
  {
   "cell_type": "code",
   "execution_count": 1,
   "id": "ef54dd74-4864-4042-b681-bf81068670b7",
   "metadata": {},
   "outputs": [
    {
     "data": {
      "text/plain": [
       "'3.0.0'"
      ]
     },
     "execution_count": 1,
     "metadata": {},
     "output_type": "execute_result"
    }
   ],
   "source": [
    "import spacy\n",
    "spacy.__version__"
   ]
  },
  {
   "cell_type": "code",
   "execution_count": 11,
   "id": "bbb2b68e-cb8e-4a7b-9377-796037edf973",
   "metadata": {},
   "outputs": [],
   "source": [
    "import warnings\n",
    "warnings.filterwarnings('ignore')"
   ]
  },
  {
   "cell_type": "code",
   "execution_count": 2,
   "id": "a0ff4798-4bd5-4c36-810f-dce07dddebdf",
   "metadata": {},
   "outputs": [],
   "source": [
    "import json\n",
    "import random\n",
    "import logging\n",
    "import spacy\n",
    "import re\n",
    "from tqdm import tqdm\n",
    "from spacy.training import Example"
   ]
  },
  {
   "cell_type": "markdown",
   "id": "ac1a2971-2593-41ca-8a5a-9278259113fe",
   "metadata": {},
   "source": [
    "read the dataset"
   ]
  },
  {
   "cell_type": "code",
   "execution_count": null,
   "id": "7f57e01c-f071-440f-9f43-54a6bdd180ba",
   "metadata": {},
   "outputs": [],
   "source": [
    "lines2=[]\n",
    "with open(\"all.jsonl\", 'r',encoding=\"utf8\") as f:\n",
    "    lines2 = f.readlines()"
   ]
  },
  {
   "cell_type": "markdown",
   "id": "e79fe9c3-291d-4669-b701-e3546b93aacd",
   "metadata": {},
   "source": [
    "Then split the contents into training and testing sets."
   ]
  },
  {
   "cell_type": "code",
   "execution_count": 3,
   "id": "3a91cee7-b411-4def-9bbd-2b6ab35a6d6f",
   "metadata": {},
   "outputs": [],
   "source": [
    "train = lines2[2:50]\n",
    "test = lines2[0:2]"
   ]
  },
  {
   "cell_type": "code",
   "execution_count": 4,
   "id": "bf21e498-1a64-485c-88c1-399298fd0847",
   "metadata": {},
   "outputs": [
    {
     "data": {
      "text/plain": [
       "'{\"id\": 3, \"data\": \"Hartej Kathuria~Data Analyst Intern - Oracle Retail~~Bengaluru, Karnataka - Email me on Indeed: indeed.com/r/Hartej-Kathuria/04181c5962a4af19~~Willing to relocate to: Delhi - Bangalore, Karnataka - Gurgaon, Haryana~~WORK EXPERIENCE~~Data Analyst Intern~~Oracle Retail -  Bengaluru, Karnataka -~~June 2017 to Present~~Job Responsibilities:~o As an intern part of the Global Retail Insights team at Oracle Retail,~work involved creating a data oriented buisness case based using high~level trends for various retailers using Excel and SQL.~o Forecasting Sales with use of various statistical Modelling Methods~using SQL and R~o Market Basket Analysis using transactional data of retailers using SQL and R~~EDUCATION~~Statistics and Probability~~Manipal University~~May 2018~~B. Tech in Electrical and Electronics in Embedded Systems~~MIT, Manipal University~~May 2016~~SKILLS~~Python (2 years), SQL. (1 year), NOSQL (1 year), R (2 years), Machine Learning (2 years)~~PUBLICATIONS~~Post-operative life expectancy in lung cancer patients~~The objective of the project was to build an efficient predictive model based~on a predefined dataset to predict whether the patient survives or dies within one year of the~operation. The dataset given has 17 variables: 12 nominal, 2 ordinal and 3 numerical. The target~variable has value true if the patient dies within one year of the operation else false if he survives.~Tool used: R~~https://www.indeed.com/r/Hartej-Kathuria/04181c5962a4af19?isid=rex-download&ikw=download-top&co=IN~~~Predict the Happiness (Sentimental Analysis)~~The objective of this project was to build a binary classifcation model for the data provided by~TripAdvisor consisiting of a sample of hotel reviews provided by customers.The model built can~be used by them to understand the hotels~listed by them.Tool Used: R~~Predict Network attacks~~The objective of this project was to build a multi-class classification model to predict the type of~attack for an internet network company in Japan which has~been facing huge losses due to malicious server attacks.The train dataset has~18 numerical features and 23 categorical features.The target variable has~three classes.Tool Used: Python~~ADDITIONAL INFORMATION~~TECHNICAL SKILLSET~~• Languages & Technologies: Python, R, SQL, NoSQL, Predictive Modelling,~Market Basket Analysis, Sentimental Analysis, Clustering, Bash~Scripting (Preliminary), Socket Programming, Java (Preliminary)~~• Tools: R Studio, Jupyter, GIT, Sublime, MATLAB, Linux, KVM, Virtual Box,~Open VZ, Oracle SQL Developer, MySQL, MongoDB, Excel\", \"label\": [[0, 15, \"Name\"], [16, 51, \"Jobs\"], [53, 62, \"Hometown\"], [64, 73, \"Hometown\"], [614, 617, \"Skills\"], [622, 623, \"Skills\"], [715, 741, \"Skills\"], [743, 761, \"School/Institue\"], [773, 830, \"Degree\"], [875, 881, \"Skills\"], [893, 896, \"Skills\"], [908, 913, \"Skills\"], [937, 953, \"Skills\"], [2296, 2316, \"Skills\"], [2318, 2340, \"Skills\"], [2342, 2362, \"Skills\"], [2364, 2374, \"Skills\"], [2406, 2424, \"Skills\"], [2381, 2405, \"Skills\"], [2426, 2430, \"Skills\"], [2455, 2463, \"Skills\"], [2465, 2472, \"Skills\"], [2474, 2478, \"Skills\"], [2479, 2486, \"Skills\"], [2488, 2494, \"Skills\"], [2496, 2501, \"Skills\"], [2559, 2566, \"Skills\"], [2530, 2550, \"Skills\"], [2568, 2573, \"Skills\"], [295, 315, \"Experience\"]]}\\n'"
      ]
     },
     "execution_count": 4,
     "metadata": {},
     "output_type": "execute_result"
    }
   ],
   "source": [
    "train[0]"
   ]
  },
  {
   "cell_type": "markdown",
   "id": "addaf7d1-9424-41f9-9d7c-29edd167d0dc",
   "metadata": {},
   "source": [
    "As we are using new labels which spaCy won’t have in their pre-trained models, we need to make a list of tuples containing the text part and its labeled entities. We can simply do this by iterating over the training set."
   ]
  },
  {
   "cell_type": "code",
   "execution_count": 5,
   "id": "94bdac53-8fde-40cd-ab4e-0af1fb280709",
   "metadata": {},
   "outputs": [],
   "source": [
    "training_data=[]\n",
    "for line in lines2:\n",
    "    data = json.loads(line)\n",
    "    text = data['data'].lower()\n",
    "    entities = []\n",
    "    for annotation in data['label']:\n",
    "        labels = annotation[2]\n",
    "        entities.append((annotation[0],annotation[1],labels))\n",
    "    training_data.append((text, {\"entities\" : entities}))"
   ]
  },
  {
   "cell_type": "code",
   "execution_count": 14,
   "id": "7afbc409-455b-4148-a463-721928594c1c",
   "metadata": {},
   "outputs": [
    {
     "data": {
      "text/plain": [
       "('vishwanath p~senior executive (mis & audit) - job profile in labournet services india~pvt ltd~~bengaluru, karnataka - email me on indeed: indeed.com/r/vishwanath-p/06a16ac2d087d3c9~~i look forward to a career that provides me an opportunity to improve my knowledge and~personality in a challenging work atmosphere. in the long run, i would like to grow leadership~position in the organization and make a meaningful contribution to the organization.~~overview:~➢ total experience of 7.3years.~➢ have maintained superior\\'s and peer\\'s confidence in efficiency and accuracy of my work.~~work experience~~senior executive (mis & audit)~~job profile in labournet services india pvt ltd -~~june 2016 to present~~from june 2016.~~operating system: windows 7~tools used: ms office (excel, word, powerpoint, outlook)~➢ provide weekly targets to placement officers and follow-up on the targets v/s achieved and~more importantly all the placement related activities are documented.~➢ working on projection against target achieved for each individual pan india placement officers~to get there incentives.~➢ taking care of placement internal audit.~➢ supporting pan india on clcs (candidate life cycle system) demo to po, initial hand holding~of po on using data, documentation and template creation.~➢ timely sharing regular dashboard/reports to placement officers whenever required.~➢ hand holding \"single point of contact\" owning the placement data, centrally and can share~the same to account management, mis team, sales team, management and whoever needs the~data in the organization including nsdc.~➢ the data management, colleague should have the right information and present during any~client audits in hq office~➢ taking care of clcs tool and will be the one point of contact for placement related queries~or issues in tool.~➢ first point of contact for any issues or queries in clcs placement tool in the organization.~➢ giving request to it software team of placement tool changes to run the business in smooth.~➢ taking care of rms (reimbursement management system)~➢ cross checking original bills and soft copies before approving claims in rms for all placement~officer of pan india (size - 23)~➢ supporting other 3 projects barclays, hrs (human resources services) &amp; naps (national~apprenticeship promotion scheme)~• manager role: i have a team member directly reporting to me.~~https://www.indeed.com/r/vishwanath-p/06a16ac2d087d3c9?isid=rex-download&ikw=download-top&co=in~~~mis executive~~ani technologies -~~october 2015 to april 2016~~operating system: windows 8.1, 10~tools used: ms excel, google sheets, ms word, ms outlook, sql database.~➢ handling pan india ola cafe operational mis.~➢ provide support to the manager in all aspect of operations.~➢ flashing daily business mis to region managers and product manager.~➢ taking care of db (delivery boy) attendance of pan india.~➢ handling billing and invoices of db\\'s and coordinating with finance team for monthly salaries.~➢ shared and handled weekly menu data sheets with it software team to update in app.~➢ taken care of complete ola café process operational mis\\'s.~➢ coordinating with it team to flash daily business summary.~➢ keep updating daily revenue of cites &amp;o zone.~➢ taken care of marketing mis.~➢ processing of vendor bills, and also coordinating for reimbursement.~worked on pilot process (ola prime) to set all the mis reports to complete process.~➢ handled performance tracker of the prime drivers.~➢ handled feedback dumps of ola prime customers.~➢ shared daily and weekly prime data for the cities managers.~➢ taken care of daily offense tracker of calling done by customer feedback callers.~➢ mapped the wi-fi usage of each cab in pan india.~➢ maintained the agent, cities and over all calling dashboard and flashing on daily basis.~~support officer~~standard chartered financial ltd -~~march 2013 to july 2015~~from mar 2013 to jul 2015~~operating system: windows 7~tools used: sql database, visual basic, ms excel (macros), ms word, ms outlook.~~roles &amp; responsibilities:~➢ provide support to the manager and team in administering and maintaining records.~➢ handled all employee related matters including joining, exit and other issues of the team and~maintaining relevant employee documents.~➢ managed all aspects pertaining to compliance and liaising with area hr and the governance~processing of vendor bills, and also coordinating for official reimbursement of team, assisting~them where applicable in following and monitoring bank processes and procedures.~➢ availability and easy access of all relevant employee records and documentation.~➢ processed the daily internal processing files of different products for approval.~➢ maintaining the mis for enr and sending daily reports to south manager.~➢ sending and maintaining monthly review letter to agencies (mrl) on monthly basis.~➢ maintaining monthly esau communication reports of employees.~➢ maintaining daily, weekly and monthly mis and updating to center manager.~~~~➢ doing internal audit check once in month.~➢ maintaining rms management and attendance.~~manager~~7 inc -~~april 2012 to march 2013~~worked in [24]7 inc as hr executive from april 2012 to mar 2013.~~operating system: windows xp~tools used: sql database, ms excel, ms word, ms outlook.~~roles &amp; responsibilities:~➢ handling of recruitment database.~➢ sourcing the profiles from the job portals.~➢ maintained recruitment team attendance, it requests, stationary and bills.~➢ sending daily offer mis to manager.~➢ short listing the resumes as per the requirements based on skills, projects and educational~background and relocation aspects.~➢ flashing daily work flow mis of recruiter on daily basis to manager.~➢ maintained data of both joined and dropouts.~➢ verifying hard copies and scanned copies of candidate documents before releasing offer letter.~➢ taken care of online tool update of candidate details, candidate test scores and program.~➢ taken care of joining employee formalities.~➢ taken care of offers to release on time on induction day.~➢ releasing the offer letters and uploading the candidate documents in portal in stipulated time~and handing over the offered candidate files to operations for further process.~~job profile in accenture -~~march 2011 to march 2012~~project name: edf energy and npower~operating system: windows 7~tools used: crm, isu, cis, ms excel, citrix, ms outlook, ms word.~~roles &amp; responsibilities:~➢ fulfillment of requests within agreed timelines.~➢ maintained &amp; sharing daily status updates of workflow of entire team to supervisor.~➢ assigning work to the team based on team member\\'s skill set and ensuring that the workload~is handled effectively and efficiently.~➢ arranging team meetings to share \"knowledge\" &amp; process related updates within the~team.~➢ taken care of complete process mis reports.~➢ handling the internal quality checks of the work completed by associates.~➢ updating the qc checklist and sap reporting on a daily basis.~➢ helping the team members in resolving their quires.~➢ sending and maintained n1 notification daily wise mis of notifications closed and pending.~~~~infosys as process associate~~job profile with infosys -~~december 2009 to september 2010~~project name: db fresher\\'s and laterals~operating system: sql database, ms excel, ms word, ms outlook.~~roles &amp; responsibilities:~➢ creation of candidate profile.~➢ handled of recruitment database.~➢ updating the candidate details in the databases.~➢ maintaining current status of candidate in the database for our future comparing purpose.~➢ releasing offer letter in portal of candidate those who got selected in campus recruitment.~➢ maintained and handled offered candidate documents.~➢ conducting and co-ordinate the recruitment activity (in-house)~➢ maintained and updating candidates profile in infy hr portal.~➢ collecting scanned copies of academic details from the candidate to verify.~~rewords and recognition:~• given with ramp award in infosys for more productivity and performance and meeting targets~for every month with in the stipulated time and with good quality.~~education~~bsc~~v v pura college of science -  bengaluru, karnataka',\n",
       " {'entities': []})"
      ]
     },
     "execution_count": 14,
     "metadata": {},
     "output_type": "execute_result"
    }
   ],
   "source": [
    "training_data[0]"
   ]
  },
  {
   "cell_type": "code",
   "execution_count": null,
   "id": "d84e5f3a-7b39-4520-adf2-28f629278230",
   "metadata": {},
   "outputs": [],
   "source": [
    "len(training_data)"
   ]
  },
  {
   "cell_type": "markdown",
   "id": "15c7202b-2868-4908-a782-91280e64483c",
   "metadata": {},
   "source": [
    "Then we are creating an empty spaCy model in English due to the following reasons. It is empty because the labels we are using are new to the spaCy trained models and it is English because the annotated CVs are in English. Note that we only need the NER model for the training."
   ]
  },
  {
   "cell_type": "code",
   "execution_count": 6,
   "id": "8fa78afc-2221-4d56-b0a5-a50f27e757eb",
   "metadata": {},
   "outputs": [
    {
     "data": {
      "text/plain": [
       "['ner']"
      ]
     },
     "execution_count": 6,
     "metadata": {},
     "output_type": "execute_result"
    }
   ],
   "source": [
    "# Create a blank \"en\" model\n",
    "from spacy.lang.en import English\n",
    "nlp1 = spacy.blank('en')\n",
    "\n",
    "# Create a new entity recognizer and add it to the pipeline\n",
    "ner = nlp1.add_pipe(\"ner\")\n",
    "\n",
    "nlp1.pipe_names"
   ]
  },
  {
   "cell_type": "markdown",
   "id": "893c4309-59fb-404a-84ce-b0005603d0a9",
   "metadata": {},
   "source": [
    "Next we will add the extracted entities to the NER model created and then we should start training as follows."
   ]
  },
  {
   "cell_type": "code",
   "execution_count": 8,
   "id": "431d5c3e-b8f3-45fe-9d74-fd808a6942ed",
   "metadata": {},
   "outputs": [],
   "source": [
    "for _, entities in training_data:\n",
    "    for ent in entities.get('entities'):\n",
    "        ner.add_label(ent[2])"
   ]
  },
  {
   "cell_type": "code",
   "execution_count": 12,
   "id": "b7639dbd-8cd3-4b22-a039-edca56de0143",
   "metadata": {
    "scrolled": true,
    "tags": []
   },
   "outputs": [
    {
     "name": "stderr",
     "output_type": "stream",
     "text": [
      "100%|███████████████████████████████████████████████████████████████████████████████████████████████████████████████████| 200/200 [00:27<00:00,  7.38it/s]\n",
      "  0%|                                                                                                                             | 0/200 [00:00<?, ?it/s]"
     ]
    },
    {
     "name": "stdout",
     "output_type": "stream",
     "text": [
      "{'ner': 3230.2179901574186}\n"
     ]
    },
    {
     "name": "stderr",
     "output_type": "stream",
     "text": [
      "100%|███████████████████████████████████████████████████████████████████████████████████████████████████████████████████| 200/200 [00:28<00:00,  7.03it/s]\n",
      "  0%|                                                                                                                             | 0/200 [00:00<?, ?it/s]"
     ]
    },
    {
     "name": "stdout",
     "output_type": "stream",
     "text": [
      "{'ner': 1191.6554969934198}\n"
     ]
    },
    {
     "name": "stderr",
     "output_type": "stream",
     "text": [
      "100%|███████████████████████████████████████████████████████████████████████████████████████████████████████████████████| 200/200 [00:27<00:00,  7.25it/s]\n",
      "  0%|▌                                                                                                                    | 1/200 [00:00<00:34,  5.77it/s]"
     ]
    },
    {
     "name": "stdout",
     "output_type": "stream",
     "text": [
      "{'ner': 1034.185564619736}\n"
     ]
    },
    {
     "name": "stderr",
     "output_type": "stream",
     "text": [
      "100%|███████████████████████████████████████████████████████████████████████████████████████████████████████████████████| 200/200 [00:28<00:00,  6.96it/s]\n",
      "  2%|█▊                                                                                                                   | 3/200 [00:00<00:09, 20.94it/s]"
     ]
    },
    {
     "name": "stdout",
     "output_type": "stream",
     "text": [
      "{'ner': 923.8908803296804}\n"
     ]
    },
    {
     "name": "stderr",
     "output_type": "stream",
     "text": [
      "100%|███████████████████████████████████████████████████████████████████████████████████████████████████████████████████| 200/200 [00:26<00:00,  7.61it/s]\n",
      "  0%|                                                                                                                             | 0/200 [00:00<?, ?it/s]"
     ]
    },
    {
     "name": "stdout",
     "output_type": "stream",
     "text": [
      "{'ner': 868.9511008529022}\n"
     ]
    },
    {
     "name": "stderr",
     "output_type": "stream",
     "text": [
      "100%|███████████████████████████████████████████████████████████████████████████████████████████████████████████████████| 200/200 [00:26<00:00,  7.53it/s]\n",
      "  0%|                                                                                                                             | 0/200 [00:00<?, ?it/s]"
     ]
    },
    {
     "name": "stdout",
     "output_type": "stream",
     "text": [
      "{'ner': 621.5500967857126}\n"
     ]
    },
    {
     "name": "stderr",
     "output_type": "stream",
     "text": [
      "100%|███████████████████████████████████████████████████████████████████████████████████████████████████████████████████| 200/200 [00:30<00:00,  6.56it/s]\n",
      "  2%|██▎                                                                                                                  | 4/200 [00:00<00:06, 31.68it/s]"
     ]
    },
    {
     "name": "stdout",
     "output_type": "stream",
     "text": [
      "{'ner': 785.9904914405372}\n"
     ]
    },
    {
     "name": "stderr",
     "output_type": "stream",
     "text": [
      "100%|███████████████████████████████████████████████████████████████████████████████████████████████████████████████████| 200/200 [00:26<00:00,  7.58it/s]\n",
      "  0%|▌                                                                                                                    | 1/200 [00:00<00:39,  5.02it/s]"
     ]
    },
    {
     "name": "stdout",
     "output_type": "stream",
     "text": [
      "{'ner': 691.5975678212283}\n"
     ]
    },
    {
     "name": "stderr",
     "output_type": "stream",
     "text": [
      "100%|███████████████████████████████████████████████████████████████████████████████████████████████████████████████████| 200/200 [00:30<00:00,  6.54it/s]\n",
      "  2%|█▊                                                                                                                   | 3/200 [00:00<00:10, 17.91it/s]"
     ]
    },
    {
     "name": "stdout",
     "output_type": "stream",
     "text": [
      "{'ner': 682.7825884478398}\n"
     ]
    },
    {
     "name": "stderr",
     "output_type": "stream",
     "text": [
      "100%|███████████████████████████████████████████████████████████████████████████████████████████████████████████████████| 200/200 [00:26<00:00,  7.58it/s]\n",
      "  2%|█▊                                                                                                                   | 3/200 [00:00<00:07, 25.72it/s]"
     ]
    },
    {
     "name": "stdout",
     "output_type": "stream",
     "text": [
      "{'ner': 676.1369788411257}\n"
     ]
    },
    {
     "name": "stderr",
     "output_type": "stream",
     "text": [
      "100%|███████████████████████████████████████████████████████████████████████████████████████████████████████████████████| 200/200 [00:26<00:00,  7.46it/s]\n",
      "  1%|█▏                                                                                                                   | 2/200 [00:00<00:10, 18.73it/s]"
     ]
    },
    {
     "name": "stdout",
     "output_type": "stream",
     "text": [
      "{'ner': 424.78292295362286}\n"
     ]
    },
    {
     "name": "stderr",
     "output_type": "stream",
     "text": [
      "100%|███████████████████████████████████████████████████████████████████████████████████████████████████████████████████| 200/200 [00:27<00:00,  7.29it/s]\n",
      "  1%|█▏                                                                                                                   | 2/200 [00:00<00:12, 15.53it/s]"
     ]
    },
    {
     "name": "stdout",
     "output_type": "stream",
     "text": [
      "{'ner': 530.9299875100046}\n"
     ]
    },
    {
     "name": "stderr",
     "output_type": "stream",
     "text": [
      "100%|███████████████████████████████████████████████████████████████████████████████████████████████████████████████████| 200/200 [00:26<00:00,  7.61it/s]\n",
      "  0%|                                                                                                                             | 0/200 [00:00<?, ?it/s]"
     ]
    },
    {
     "name": "stdout",
     "output_type": "stream",
     "text": [
      "{'ner': 349.50413242852045}\n"
     ]
    },
    {
     "name": "stderr",
     "output_type": "stream",
     "text": [
      "100%|███████████████████████████████████████████████████████████████████████████████████████████████████████████████████| 200/200 [00:28<00:00,  7.08it/s]\n",
      "  1%|█▏                                                                                                                   | 2/200 [00:00<00:12, 15.93it/s]"
     ]
    },
    {
     "name": "stdout",
     "output_type": "stream",
     "text": [
      "{'ner': 378.95268997788025}\n"
     ]
    },
    {
     "name": "stderr",
     "output_type": "stream",
     "text": [
      "100%|███████████████████████████████████████████████████████████████████████████████████████████████████████████████████| 200/200 [00:28<00:00,  7.07it/s]\n",
      "  0%|                                                                                                                             | 0/200 [00:00<?, ?it/s]"
     ]
    },
    {
     "name": "stdout",
     "output_type": "stream",
     "text": [
      "{'ner': 383.10858791309096}\n"
     ]
    },
    {
     "name": "stderr",
     "output_type": "stream",
     "text": [
      "100%|███████████████████████████████████████████████████████████████████████████████████████████████████████████████████| 200/200 [00:30<00:00,  6.64it/s]\n",
      "  0%|                                                                                                                             | 0/200 [00:00<?, ?it/s]"
     ]
    },
    {
     "name": "stdout",
     "output_type": "stream",
     "text": [
      "{'ner': 347.5349110725264}\n"
     ]
    },
    {
     "name": "stderr",
     "output_type": "stream",
     "text": [
      "100%|███████████████████████████████████████████████████████████████████████████████████████████████████████████████████| 200/200 [00:34<00:00,  5.88it/s]\n",
      "  1%|█▏                                                                                                                   | 2/200 [00:00<00:14, 13.77it/s]"
     ]
    },
    {
     "name": "stdout",
     "output_type": "stream",
     "text": [
      "{'ner': 389.9605380017121}\n"
     ]
    },
    {
     "name": "stderr",
     "output_type": "stream",
     "text": [
      "100%|███████████████████████████████████████████████████████████████████████████████████████████████████████████████████| 200/200 [00:25<00:00,  7.99it/s]\n",
      "  2%|██▎                                                                                                                  | 4/200 [00:00<00:06, 29.67it/s]"
     ]
    },
    {
     "name": "stdout",
     "output_type": "stream",
     "text": [
      "{'ner': 230.11858667469164}\n"
     ]
    },
    {
     "name": "stderr",
     "output_type": "stream",
     "text": [
      "100%|███████████████████████████████████████████████████████████████████████████████████████████████████████████████████| 200/200 [00:30<00:00,  6.55it/s]\n",
      "  0%|                                                                                                                             | 0/200 [00:00<?, ?it/s]"
     ]
    },
    {
     "name": "stdout",
     "output_type": "stream",
     "text": [
      "{'ner': 260.96007741221797}\n"
     ]
    },
    {
     "name": "stderr",
     "output_type": "stream",
     "text": [
      "100%|███████████████████████████████████████████████████████████████████████████████████████████████████████████████████| 200/200 [00:31<00:00,  6.45it/s]\n",
      "  1%|█▏                                                                                                                   | 2/200 [00:00<00:12, 15.87it/s]"
     ]
    },
    {
     "name": "stdout",
     "output_type": "stream",
     "text": [
      "{'ner': 284.38204400311713}\n"
     ]
    },
    {
     "name": "stderr",
     "output_type": "stream",
     "text": [
      "100%|███████████████████████████████████████████████████████████████████████████████████████████████████████████████████| 200/200 [00:31<00:00,  6.25it/s]\n",
      "  2%|█▊                                                                                                                   | 3/200 [00:00<00:10, 18.08it/s]"
     ]
    },
    {
     "name": "stdout",
     "output_type": "stream",
     "text": [
      "{'ner': 252.54620195315727}\n"
     ]
    },
    {
     "name": "stderr",
     "output_type": "stream",
     "text": [
      "100%|███████████████████████████████████████████████████████████████████████████████████████████████████████████████████| 200/200 [00:30<00:00,  6.65it/s]\n",
      "  1%|█▏                                                                                                                   | 2/200 [00:00<00:12, 16.01it/s]"
     ]
    },
    {
     "name": "stdout",
     "output_type": "stream",
     "text": [
      "{'ner': 257.66916816443427}\n"
     ]
    },
    {
     "name": "stderr",
     "output_type": "stream",
     "text": [
      "100%|███████████████████████████████████████████████████████████████████████████████████████████████████████████████████| 200/200 [00:27<00:00,  7.38it/s]\n",
      "  1%|█▏                                                                                                                   | 2/200 [00:00<00:13, 14.54it/s]"
     ]
    },
    {
     "name": "stdout",
     "output_type": "stream",
     "text": [
      "{'ner': 225.99178818458734}\n"
     ]
    },
    {
     "name": "stderr",
     "output_type": "stream",
     "text": [
      "100%|███████████████████████████████████████████████████████████████████████████████████████████████████████████████████| 200/200 [00:30<00:00,  6.58it/s]\n",
      "  1%|█▏                                                                                                                   | 2/200 [00:00<00:11, 17.55it/s]"
     ]
    },
    {
     "name": "stdout",
     "output_type": "stream",
     "text": [
      "{'ner': 161.21377385548902}\n"
     ]
    },
    {
     "name": "stderr",
     "output_type": "stream",
     "text": [
      "100%|███████████████████████████████████████████████████████████████████████████████████████████████████████████████████| 200/200 [00:29<00:00,  6.73it/s]\n",
      "  0%|                                                                                                                             | 0/200 [00:00<?, ?it/s]"
     ]
    },
    {
     "name": "stdout",
     "output_type": "stream",
     "text": [
      "{'ner': 204.48263448423407}\n"
     ]
    },
    {
     "name": "stderr",
     "output_type": "stream",
     "text": [
      "100%|███████████████████████████████████████████████████████████████████████████████████████████████████████████████████| 200/200 [00:29<00:00,  6.69it/s]\n",
      "  2%|█▊                                                                                                                   | 3/200 [00:00<00:09, 21.78it/s]"
     ]
    },
    {
     "name": "stdout",
     "output_type": "stream",
     "text": [
      "{'ner': 186.9956976072013}\n"
     ]
    },
    {
     "name": "stderr",
     "output_type": "stream",
     "text": [
      "100%|███████████████████████████████████████████████████████████████████████████████████████████████████████████████████| 200/200 [00:27<00:00,  7.31it/s]\n",
      "  0%|                                                                                                                             | 0/200 [00:00<?, ?it/s]"
     ]
    },
    {
     "name": "stdout",
     "output_type": "stream",
     "text": [
      "{'ner': 176.21457726736242}\n"
     ]
    },
    {
     "name": "stderr",
     "output_type": "stream",
     "text": [
      "100%|███████████████████████████████████████████████████████████████████████████████████████████████████████████████████| 200/200 [00:30<00:00,  6.51it/s]\n",
      "  1%|█▏                                                                                                                   | 2/200 [00:00<00:12, 16.40it/s]"
     ]
    },
    {
     "name": "stdout",
     "output_type": "stream",
     "text": [
      "{'ner': 179.05686786939268}\n"
     ]
    },
    {
     "name": "stderr",
     "output_type": "stream",
     "text": [
      "100%|███████████████████████████████████████████████████████████████████████████████████████████████████████████████████| 200/200 [00:28<00:00,  7.13it/s]\n",
      "  1%|█▏                                                                                                                   | 2/200 [00:00<00:13, 14.63it/s]"
     ]
    },
    {
     "name": "stdout",
     "output_type": "stream",
     "text": [
      "{'ner': 140.2395826126442}\n"
     ]
    },
    {
     "name": "stderr",
     "output_type": "stream",
     "text": [
      "100%|███████████████████████████████████████████████████████████████████████████████████████████████████████████████████| 200/200 [00:26<00:00,  7.49it/s]\n",
      "  1%|█▏                                                                                                                   | 2/200 [00:00<00:11, 16.83it/s]"
     ]
    },
    {
     "name": "stdout",
     "output_type": "stream",
     "text": [
      "{'ner': 154.86636115597238}\n"
     ]
    },
    {
     "name": "stderr",
     "output_type": "stream",
     "text": [
      "100%|███████████████████████████████████████████████████████████████████████████████████████████████████████████████████| 200/200 [00:30<00:00,  6.61it/s]\n",
      "  0%|                                                                                                                             | 0/200 [00:00<?, ?it/s]"
     ]
    },
    {
     "name": "stdout",
     "output_type": "stream",
     "text": [
      "{'ner': 144.97266921182177}\n"
     ]
    },
    {
     "name": "stderr",
     "output_type": "stream",
     "text": [
      "100%|███████████████████████████████████████████████████████████████████████████████████████████████████████████████████| 200/200 [00:26<00:00,  7.56it/s]\n",
      "  0%|                                                                                                                             | 0/200 [00:00<?, ?it/s]"
     ]
    },
    {
     "name": "stdout",
     "output_type": "stream",
     "text": [
      "{'ner': 139.81901030039293}\n"
     ]
    },
    {
     "name": "stderr",
     "output_type": "stream",
     "text": [
      "100%|███████████████████████████████████████████████████████████████████████████████████████████████████████████████████| 200/200 [00:26<00:00,  7.59it/s]\n",
      "  1%|█▏                                                                                                                   | 2/200 [00:00<00:12, 15.45it/s]"
     ]
    },
    {
     "name": "stdout",
     "output_type": "stream",
     "text": [
      "{'ner': 128.89952605463395}\n"
     ]
    },
    {
     "name": "stderr",
     "output_type": "stream",
     "text": [
      "100%|███████████████████████████████████████████████████████████████████████████████████████████████████████████████████| 200/200 [00:28<00:00,  6.96it/s]\n",
      "  0%|                                                                                                                             | 0/200 [00:00<?, ?it/s]"
     ]
    },
    {
     "name": "stdout",
     "output_type": "stream",
     "text": [
      "{'ner': 115.4676335660686}\n"
     ]
    },
    {
     "name": "stderr",
     "output_type": "stream",
     "text": [
      "100%|███████████████████████████████████████████████████████████████████████████████████████████████████████████████████| 200/200 [00:25<00:00,  7.80it/s]\n",
      "  1%|█▏                                                                                                                   | 2/200 [00:00<00:13, 14.47it/s]"
     ]
    },
    {
     "name": "stdout",
     "output_type": "stream",
     "text": [
      "{'ner': 161.54734660818866}\n"
     ]
    },
    {
     "name": "stderr",
     "output_type": "stream",
     "text": [
      "100%|███████████████████████████████████████████████████████████████████████████████████████████████████████████████████| 200/200 [00:31<00:00,  6.45it/s]\n",
      "  0%|                                                                                                                             | 0/200 [00:00<?, ?it/s]"
     ]
    },
    {
     "name": "stdout",
     "output_type": "stream",
     "text": [
      "{'ner': 162.1574564669431}\n"
     ]
    },
    {
     "name": "stderr",
     "output_type": "stream",
     "text": [
      "100%|███████████████████████████████████████████████████████████████████████████████████████████████████████████████████| 200/200 [00:28<00:00,  6.97it/s]\n",
      "  0%|                                                                                                                             | 0/200 [00:00<?, ?it/s]"
     ]
    },
    {
     "name": "stdout",
     "output_type": "stream",
     "text": [
      "{'ner': 118.33293129455419}\n"
     ]
    },
    {
     "name": "stderr",
     "output_type": "stream",
     "text": [
      "100%|███████████████████████████████████████████████████████████████████████████████████████████████████████████████████| 200/200 [00:28<00:00,  6.95it/s]\n",
      "  1%|█▏                                                                                                                   | 2/200 [00:00<00:14, 13.65it/s]"
     ]
    },
    {
     "name": "stdout",
     "output_type": "stream",
     "text": [
      "{'ner': 125.3174971781262}\n"
     ]
    },
    {
     "name": "stderr",
     "output_type": "stream",
     "text": [
      "100%|███████████████████████████████████████████████████████████████████████████████████████████████████████████████████| 200/200 [00:28<00:00,  6.97it/s]\n",
      "  0%|                                                                                                                             | 0/200 [00:00<?, ?it/s]"
     ]
    },
    {
     "name": "stdout",
     "output_type": "stream",
     "text": [
      "{'ner': 109.53724892886298}\n"
     ]
    },
    {
     "name": "stderr",
     "output_type": "stream",
     "text": [
      "100%|███████████████████████████████████████████████████████████████████████████████████████████████████████████████████| 200/200 [00:22<00:00,  8.75it/s]\n",
      "  1%|█▏                                                                                                                   | 2/200 [00:00<00:10, 18.51it/s]"
     ]
    },
    {
     "name": "stdout",
     "output_type": "stream",
     "text": [
      "{'ner': 197.73654852058667}\n"
     ]
    },
    {
     "name": "stderr",
     "output_type": "stream",
     "text": [
      "100%|███████████████████████████████████████████████████████████████████████████████████████████████████████████████████| 200/200 [00:28<00:00,  6.96it/s]\n",
      "  0%|                                                                                                                             | 0/200 [00:00<?, ?it/s]"
     ]
    },
    {
     "name": "stdout",
     "output_type": "stream",
     "text": [
      "{'ner': 120.95291296384289}\n"
     ]
    },
    {
     "name": "stderr",
     "output_type": "stream",
     "text": [
      "100%|███████████████████████████████████████████████████████████████████████████████████████████████████████████████████| 200/200 [00:27<00:00,  7.28it/s]\n",
      "  2%|█▊                                                                                                                   | 3/200 [00:00<00:10, 18.36it/s]"
     ]
    },
    {
     "name": "stdout",
     "output_type": "stream",
     "text": [
      "{'ner': 151.091501753765}\n"
     ]
    },
    {
     "name": "stderr",
     "output_type": "stream",
     "text": [
      "100%|███████████████████████████████████████████████████████████████████████████████████████████████████████████████████| 200/200 [00:28<00:00,  7.01it/s]\n",
      "  0%|                                                                                                                             | 0/200 [00:00<?, ?it/s]"
     ]
    },
    {
     "name": "stdout",
     "output_type": "stream",
     "text": [
      "{'ner': 122.44139570482186}\n"
     ]
    },
    {
     "name": "stderr",
     "output_type": "stream",
     "text": [
      "100%|███████████████████████████████████████████████████████████████████████████████████████████████████████████████████| 200/200 [00:26<00:00,  7.60it/s]\n",
      "  0%|                                                                                                                             | 0/200 [00:00<?, ?it/s]"
     ]
    },
    {
     "name": "stdout",
     "output_type": "stream",
     "text": [
      "{'ner': 125.08273217141205}\n"
     ]
    },
    {
     "name": "stderr",
     "output_type": "stream",
     "text": [
      "100%|███████████████████████████████████████████████████████████████████████████████████████████████████████████████████| 200/200 [00:26<00:00,  7.50it/s]\n",
      "  1%|█▏                                                                                                                   | 2/200 [00:00<00:16, 12.23it/s]"
     ]
    },
    {
     "name": "stdout",
     "output_type": "stream",
     "text": [
      "{'ner': 107.7653913031163}\n"
     ]
    },
    {
     "name": "stderr",
     "output_type": "stream",
     "text": [
      "100%|███████████████████████████████████████████████████████████████████████████████████████████████████████████████████| 200/200 [00:30<00:00,  6.53it/s]\n",
      "  1%|█▏                                                                                                                   | 2/200 [00:00<00:11, 16.85it/s]"
     ]
    },
    {
     "name": "stdout",
     "output_type": "stream",
     "text": [
      "{'ner': 114.40429974108636}\n"
     ]
    },
    {
     "name": "stderr",
     "output_type": "stream",
     "text": [
      "100%|███████████████████████████████████████████████████████████████████████████████████████████████████████████████████| 200/200 [00:23<00:00,  8.35it/s]\n",
      "  0%|                                                                                                                             | 0/200 [00:00<?, ?it/s]"
     ]
    },
    {
     "name": "stdout",
     "output_type": "stream",
     "text": [
      "{'ner': 100.93839185579355}\n"
     ]
    },
    {
     "name": "stderr",
     "output_type": "stream",
     "text": [
      "100%|███████████████████████████████████████████████████████████████████████████████████████████████████████████████████| 200/200 [00:28<00:00,  7.13it/s]\n",
      "  0%|                                                                                                                             | 0/200 [00:00<?, ?it/s]"
     ]
    },
    {
     "name": "stdout",
     "output_type": "stream",
     "text": [
      "{'ner': 122.33813458493917}\n"
     ]
    },
    {
     "name": "stderr",
     "output_type": "stream",
     "text": [
      "100%|███████████████████████████████████████████████████████████████████████████████████████████████████████████████████| 200/200 [00:25<00:00,  7.82it/s]\n",
      "  0%|                                                                                                                             | 0/200 [00:00<?, ?it/s]"
     ]
    },
    {
     "name": "stdout",
     "output_type": "stream",
     "text": [
      "{'ner': 107.43304759747811}\n"
     ]
    },
    {
     "name": "stderr",
     "output_type": "stream",
     "text": [
      "100%|███████████████████████████████████████████████████████████████████████████████████████████████████████████████████| 200/200 [00:25<00:00,  7.70it/s]\n",
      "  1%|█▏                                                                                                                   | 2/200 [00:00<00:12, 15.97it/s]"
     ]
    },
    {
     "name": "stdout",
     "output_type": "stream",
     "text": [
      "{'ner': 117.57241213488501}\n"
     ]
    },
    {
     "name": "stderr",
     "output_type": "stream",
     "text": [
      "100%|███████████████████████████████████████████████████████████████████████████████████████████████████████████████████| 200/200 [00:30<00:00,  6.63it/s]\n",
      "  1%|█▏                                                                                                                   | 2/200 [00:00<00:14, 13.69it/s]"
     ]
    },
    {
     "name": "stdout",
     "output_type": "stream",
     "text": [
      "{'ner': 123.1103336019962}\n"
     ]
    },
    {
     "name": "stderr",
     "output_type": "stream",
     "text": [
      "100%|███████████████████████████████████████████████████████████████████████████████████████████████████████████████████| 200/200 [00:23<00:00,  8.66it/s]\n",
      "  0%|                                                                                                                             | 0/200 [00:00<?, ?it/s]"
     ]
    },
    {
     "name": "stdout",
     "output_type": "stream",
     "text": [
      "{'ner': 126.99743831169783}\n"
     ]
    },
    {
     "name": "stderr",
     "output_type": "stream",
     "text": [
      "100%|███████████████████████████████████████████████████████████████████████████████████████████████████████████████████| 200/200 [00:20<00:00,  9.84it/s]\n",
      "  2%|█▊                                                                                                                   | 3/200 [00:00<00:07, 26.94it/s]"
     ]
    },
    {
     "name": "stdout",
     "output_type": "stream",
     "text": [
      "{'ner': 120.09796722803985}\n"
     ]
    },
    {
     "name": "stderr",
     "output_type": "stream",
     "text": [
      "100%|███████████████████████████████████████████████████████████████████████████████████████████████████████████████████| 200/200 [00:22<00:00,  8.84it/s]\n",
      "  0%|                                                                                                                             | 0/200 [00:00<?, ?it/s]"
     ]
    },
    {
     "name": "stdout",
     "output_type": "stream",
     "text": [
      "{'ner': 79.78485797881059}\n"
     ]
    },
    {
     "name": "stderr",
     "output_type": "stream",
     "text": [
      "100%|███████████████████████████████████████████████████████████████████████████████████████████████████████████████████| 200/200 [00:20<00:00,  9.65it/s]\n",
      "  0%|                                                                                                                             | 0/200 [00:00<?, ?it/s]"
     ]
    },
    {
     "name": "stdout",
     "output_type": "stream",
     "text": [
      "{'ner': 77.559984649908}\n"
     ]
    },
    {
     "name": "stderr",
     "output_type": "stream",
     "text": [
      "100%|███████████████████████████████████████████████████████████████████████████████████████████████████████████████████| 200/200 [00:20<00:00,  9.76it/s]\n",
      "  0%|                                                                                                                             | 0/200 [00:00<?, ?it/s]"
     ]
    },
    {
     "name": "stdout",
     "output_type": "stream",
     "text": [
      "{'ner': 106.70888778531408}\n"
     ]
    },
    {
     "name": "stderr",
     "output_type": "stream",
     "text": [
      "100%|███████████████████████████████████████████████████████████████████████████████████████████████████████████████████| 200/200 [00:23<00:00,  8.57it/s]\n",
      "  2%|█▊                                                                                                                   | 3/200 [00:00<00:09, 19.93it/s]"
     ]
    },
    {
     "name": "stdout",
     "output_type": "stream",
     "text": [
      "{'ner': 68.25805864809303}\n"
     ]
    },
    {
     "name": "stderr",
     "output_type": "stream",
     "text": [
      "100%|███████████████████████████████████████████████████████████████████████████████████████████████████████████████████| 200/200 [00:24<00:00,  8.17it/s]\n",
      "  0%|                                                                                                                             | 0/200 [00:00<?, ?it/s]"
     ]
    },
    {
     "name": "stdout",
     "output_type": "stream",
     "text": [
      "{'ner': 101.92627368936635}\n"
     ]
    },
    {
     "name": "stderr",
     "output_type": "stream",
     "text": [
      "100%|███████████████████████████████████████████████████████████████████████████████████████████████████████████████████| 200/200 [00:29<00:00,  6.79it/s]\n",
      "  1%|█▏                                                                                                                   | 2/200 [00:00<00:12, 15.69it/s]"
     ]
    },
    {
     "name": "stdout",
     "output_type": "stream",
     "text": [
      "{'ner': 74.12261831824186}\n"
     ]
    },
    {
     "name": "stderr",
     "output_type": "stream",
     "text": [
      "100%|███████████████████████████████████████████████████████████████████████████████████████████████████████████████████| 200/200 [00:19<00:00, 10.33it/s]\n",
      "  2%|██▉                                                                                                                  | 5/200 [00:00<00:04, 41.06it/s]"
     ]
    },
    {
     "name": "stdout",
     "output_type": "stream",
     "text": [
      "{'ner': 51.279532390158565}\n"
     ]
    },
    {
     "name": "stderr",
     "output_type": "stream",
     "text": [
      "100%|███████████████████████████████████████████████████████████████████████████████████████████████████████████████████| 200/200 [00:11<00:00, 17.06it/s]\n",
      "  1%|█▏                                                                                                                   | 2/200 [00:00<00:09, 19.94it/s]"
     ]
    },
    {
     "name": "stdout",
     "output_type": "stream",
     "text": [
      "{'ner': 92.38949745279471}\n"
     ]
    },
    {
     "name": "stderr",
     "output_type": "stream",
     "text": [
      "100%|███████████████████████████████████████████████████████████████████████████████████████████████████████████████████| 200/200 [00:10<00:00, 19.75it/s]\n",
      "  2%|██▉                                                                                                                  | 5/200 [00:00<00:04, 48.09it/s]"
     ]
    },
    {
     "name": "stdout",
     "output_type": "stream",
     "text": [
      "{'ner': 74.54507431473534}\n"
     ]
    },
    {
     "name": "stderr",
     "output_type": "stream",
     "text": [
      "100%|███████████████████████████████████████████████████████████████████████████████████████████████████████████████████| 200/200 [00:09<00:00, 20.87it/s]\n",
      "  2%|██▉                                                                                                                  | 5/200 [00:00<00:03, 49.91it/s]"
     ]
    },
    {
     "name": "stdout",
     "output_type": "stream",
     "text": [
      "{'ner': 103.95053093686074}\n"
     ]
    },
    {
     "name": "stderr",
     "output_type": "stream",
     "text": [
      "100%|███████████████████████████████████████████████████████████████████████████████████████████████████████████████████| 200/200 [00:09<00:00, 20.96it/s]\n",
      "  1%|█▏                                                                                                                   | 2/200 [00:00<00:15, 12.82it/s]"
     ]
    },
    {
     "name": "stdout",
     "output_type": "stream",
     "text": [
      "{'ner': 63.431215435692785}\n"
     ]
    },
    {
     "name": "stderr",
     "output_type": "stream",
     "text": [
      "100%|███████████████████████████████████████████████████████████████████████████████████████████████████████████████████| 200/200 [00:09<00:00, 20.33it/s]\n",
      "  0%|▌                                                                                                                    | 1/200 [00:00<00:26,  7.60it/s]"
     ]
    },
    {
     "name": "stdout",
     "output_type": "stream",
     "text": [
      "{'ner': 111.59401473993726}\n"
     ]
    },
    {
     "name": "stderr",
     "output_type": "stream",
     "text": [
      "100%|███████████████████████████████████████████████████████████████████████████████████████████████████████████████████| 200/200 [00:09<00:00, 20.84it/s]\n",
      "  2%|██▉                                                                                                                  | 5/200 [00:00<00:07, 24.66it/s]"
     ]
    },
    {
     "name": "stdout",
     "output_type": "stream",
     "text": [
      "{'ner': 81.05874250928922}\n"
     ]
    },
    {
     "name": "stderr",
     "output_type": "stream",
     "text": [
      "100%|███████████████████████████████████████████████████████████████████████████████████████████████████████████████████| 200/200 [00:10<00:00, 20.00it/s]\n",
      "  2%|██▉                                                                                                                  | 5/200 [00:00<00:04, 45.10it/s]"
     ]
    },
    {
     "name": "stdout",
     "output_type": "stream",
     "text": [
      "{'ner': 67.16515115734784}\n"
     ]
    },
    {
     "name": "stderr",
     "output_type": "stream",
     "text": [
      "100%|███████████████████████████████████████████████████████████████████████████████████████████████████████████████████| 200/200 [00:12<00:00, 16.43it/s]\n",
      "  0%|▌                                                                                                                    | 1/200 [00:00<00:22,  8.81it/s]"
     ]
    },
    {
     "name": "stdout",
     "output_type": "stream",
     "text": [
      "{'ner': 100.55986223190916}\n"
     ]
    },
    {
     "name": "stderr",
     "output_type": "stream",
     "text": [
      "100%|███████████████████████████████████████████████████████████████████████████████████████████████████████████████████| 200/200 [00:09<00:00, 21.28it/s]\n",
      "  3%|███▌                                                                                                                 | 6/200 [00:00<00:03, 53.80it/s]"
     ]
    },
    {
     "name": "stdout",
     "output_type": "stream",
     "text": [
      "{'ner': 62.05510580224169}\n"
     ]
    },
    {
     "name": "stderr",
     "output_type": "stream",
     "text": [
      "100%|███████████████████████████████████████████████████████████████████████████████████████████████████████████████████| 200/200 [00:10<00:00, 19.38it/s]\n",
      "  0%|▌                                                                                                                    | 1/200 [00:00<00:24,  8.14it/s]"
     ]
    },
    {
     "name": "stdout",
     "output_type": "stream",
     "text": [
      "{'ner': 84.7227444165322}\n"
     ]
    },
    {
     "name": "stderr",
     "output_type": "stream",
     "text": [
      "100%|███████████████████████████████████████████████████████████████████████████████████████████████████████████████████| 200/200 [00:10<00:00, 18.51it/s]\n",
      "  2%|██▉                                                                                                                  | 5/200 [00:00<00:04, 39.58it/s]"
     ]
    },
    {
     "name": "stdout",
     "output_type": "stream",
     "text": [
      "{'ner': 108.07662531918476}\n"
     ]
    },
    {
     "name": "stderr",
     "output_type": "stream",
     "text": [
      "100%|███████████████████████████████████████████████████████████████████████████████████████████████████████████████████| 200/200 [00:09<00:00, 20.84it/s]\n",
      "  0%|                                                                                                                             | 0/200 [00:00<?, ?it/s]"
     ]
    },
    {
     "name": "stdout",
     "output_type": "stream",
     "text": [
      "{'ner': 72.99649177970676}\n"
     ]
    },
    {
     "name": "stderr",
     "output_type": "stream",
     "text": [
      "100%|███████████████████████████████████████████████████████████████████████████████████████████████████████████████████| 200/200 [00:09<00:00, 20.66it/s]\n",
      "  1%|█▏                                                                                                                   | 2/200 [00:00<00:14, 13.32it/s]"
     ]
    },
    {
     "name": "stdout",
     "output_type": "stream",
     "text": [
      "{'ner': 66.73260190994775}\n"
     ]
    },
    {
     "name": "stderr",
     "output_type": "stream",
     "text": [
      "100%|███████████████████████████████████████████████████████████████████████████████████████████████████████████████████| 200/200 [00:09<00:00, 20.24it/s]\n",
      "  0%|                                                                                                                             | 0/200 [00:00<?, ?it/s]"
     ]
    },
    {
     "name": "stdout",
     "output_type": "stream",
     "text": [
      "{'ner': 78.86720982014431}\n"
     ]
    },
    {
     "name": "stderr",
     "output_type": "stream",
     "text": [
      "100%|███████████████████████████████████████████████████████████████████████████████████████████████████████████████████| 200/200 [00:09<00:00, 20.40it/s]\n",
      "  1%|█▏                                                                                                                   | 2/200 [00:00<00:12, 15.93it/s]"
     ]
    },
    {
     "name": "stdout",
     "output_type": "stream",
     "text": [
      "{'ner': 73.37483995938268}\n"
     ]
    },
    {
     "name": "stderr",
     "output_type": "stream",
     "text": [
      "100%|███████████████████████████████████████████████████████████████████████████████████████████████████████████████████| 200/200 [00:09<00:00, 20.89it/s]\n",
      "  2%|██▉                                                                                                                  | 5/200 [00:00<00:03, 49.92it/s]"
     ]
    },
    {
     "name": "stdout",
     "output_type": "stream",
     "text": [
      "{'ner': 90.88585153681124}\n"
     ]
    },
    {
     "name": "stderr",
     "output_type": "stream",
     "text": [
      "100%|███████████████████████████████████████████████████████████████████████████████████████████████████████████████████| 200/200 [00:09<00:00, 20.83it/s]\n",
      "  2%|██▎                                                                                                                  | 4/200 [00:00<00:07, 24.62it/s]"
     ]
    },
    {
     "name": "stdout",
     "output_type": "stream",
     "text": [
      "{'ner': 96.64441005953678}\n"
     ]
    },
    {
     "name": "stderr",
     "output_type": "stream",
     "text": [
      "100%|███████████████████████████████████████████████████████████████████████████████████████████████████████████████████| 200/200 [00:09<00:00, 20.69it/s]\n",
      "  3%|███▌                                                                                                                 | 6/200 [00:00<00:03, 51.88it/s]"
     ]
    },
    {
     "name": "stdout",
     "output_type": "stream",
     "text": [
      "{'ner': 68.69831507002583}\n"
     ]
    },
    {
     "name": "stderr",
     "output_type": "stream",
     "text": [
      "100%|███████████████████████████████████████████████████████████████████████████████████████████████████████████████████| 200/200 [00:09<00:00, 20.89it/s]\n",
      "  2%|█▊                                                                                                                   | 3/200 [00:00<00:07, 25.42it/s]"
     ]
    },
    {
     "name": "stdout",
     "output_type": "stream",
     "text": [
      "{'ner': 64.2463734937178}\n"
     ]
    },
    {
     "name": "stderr",
     "output_type": "stream",
     "text": [
      "100%|███████████████████████████████████████████████████████████████████████████████████████████████████████████████████| 200/200 [00:09<00:00, 21.09it/s]\n",
      "  1%|█▏                                                                                                                   | 2/200 [00:00<00:11, 16.99it/s]"
     ]
    },
    {
     "name": "stdout",
     "output_type": "stream",
     "text": [
      "{'ner': 53.60762139080841}\n"
     ]
    },
    {
     "name": "stderr",
     "output_type": "stream",
     "text": [
      "100%|███████████████████████████████████████████████████████████████████████████████████████████████████████████████████| 200/200 [00:09<00:00, 20.59it/s]\n",
      "  2%|█▊                                                                                                                   | 3/200 [00:00<00:10, 19.54it/s]"
     ]
    },
    {
     "name": "stdout",
     "output_type": "stream",
     "text": [
      "{'ner': 78.89502281712825}\n"
     ]
    },
    {
     "name": "stderr",
     "output_type": "stream",
     "text": [
      "100%|███████████████████████████████████████████████████████████████████████████████████████████████████████████████████| 200/200 [00:09<00:00, 20.82it/s]\n",
      "  3%|███▌                                                                                                                 | 6/200 [00:00<00:03, 59.94it/s]"
     ]
    },
    {
     "name": "stdout",
     "output_type": "stream",
     "text": [
      "{'ner': 66.40192349737625}\n"
     ]
    },
    {
     "name": "stderr",
     "output_type": "stream",
     "text": [
      "100%|███████████████████████████████████████████████████████████████████████████████████████████████████████████████████| 200/200 [00:09<00:00, 20.31it/s]\n",
      "  2%|██▎                                                                                                                  | 4/200 [00:00<00:06, 28.18it/s]"
     ]
    },
    {
     "name": "stdout",
     "output_type": "stream",
     "text": [
      "{'ner': 46.362035751376055}\n"
     ]
    },
    {
     "name": "stderr",
     "output_type": "stream",
     "text": [
      "100%|███████████████████████████████████████████████████████████████████████████████████████████████████████████████████| 200/200 [00:09<00:00, 21.14it/s]\n",
      "  0%|▌                                                                                                                    | 1/200 [00:00<00:28,  6.91it/s]"
     ]
    },
    {
     "name": "stdout",
     "output_type": "stream",
     "text": [
      "{'ner': 45.749232193511496}\n"
     ]
    },
    {
     "name": "stderr",
     "output_type": "stream",
     "text": [
      "100%|███████████████████████████████████████████████████████████████████████████████████████████████████████████████████| 200/200 [00:09<00:00, 20.24it/s]\n",
      "  1%|█▏                                                                                                                   | 2/200 [00:00<00:17, 11.08it/s]"
     ]
    },
    {
     "name": "stdout",
     "output_type": "stream",
     "text": [
      "{'ner': 47.86193280391182}\n"
     ]
    },
    {
     "name": "stderr",
     "output_type": "stream",
     "text": [
      "100%|███████████████████████████████████████████████████████████████████████████████████████████████████████████████████| 200/200 [00:09<00:00, 20.31it/s]\n",
      "  2%|█▊                                                                                                                   | 3/200 [00:00<00:12, 16.11it/s]"
     ]
    },
    {
     "name": "stdout",
     "output_type": "stream",
     "text": [
      "{'ner': 78.12238520995247}\n"
     ]
    },
    {
     "name": "stderr",
     "output_type": "stream",
     "text": [
      "100%|███████████████████████████████████████████████████████████████████████████████████████████████████████████████████| 200/200 [00:09<00:00, 20.47it/s]\n",
      "  2%|█▊                                                                                                                   | 3/200 [00:00<00:13, 14.98it/s]"
     ]
    },
    {
     "name": "stdout",
     "output_type": "stream",
     "text": [
      "{'ner': 64.12105994191946}\n"
     ]
    },
    {
     "name": "stderr",
     "output_type": "stream",
     "text": [
      "100%|███████████████████████████████████████████████████████████████████████████████████████████████████████████████████| 200/200 [00:09<00:00, 20.50it/s]\n",
      "  1%|█▏                                                                                                                   | 2/200 [00:00<00:14, 14.01it/s]"
     ]
    },
    {
     "name": "stdout",
     "output_type": "stream",
     "text": [
      "{'ner': 147.53778968539285}\n"
     ]
    },
    {
     "name": "stderr",
     "output_type": "stream",
     "text": [
      "100%|███████████████████████████████████████████████████████████████████████████████████████████████████████████████████| 200/200 [00:09<00:00, 20.61it/s]\n",
      "  0%|                                                                                                                             | 0/200 [00:00<?, ?it/s]"
     ]
    },
    {
     "name": "stdout",
     "output_type": "stream",
     "text": [
      "{'ner': 59.989313121390225}\n"
     ]
    },
    {
     "name": "stderr",
     "output_type": "stream",
     "text": [
      "100%|███████████████████████████████████████████████████████████████████████████████████████████████████████████████████| 200/200 [00:09<00:00, 20.65it/s]\n",
      "  2%|█▊                                                                                                                   | 3/200 [00:00<00:09, 21.16it/s]"
     ]
    },
    {
     "name": "stdout",
     "output_type": "stream",
     "text": [
      "{'ner': 34.16743885723608}\n"
     ]
    },
    {
     "name": "stderr",
     "output_type": "stream",
     "text": [
      "100%|███████████████████████████████████████████████████████████████████████████████████████████████████████████████████| 200/200 [00:09<00:00, 20.55it/s]\n",
      "  1%|█▏                                                                                                                   | 2/200 [00:00<00:10, 18.35it/s]"
     ]
    },
    {
     "name": "stdout",
     "output_type": "stream",
     "text": [
      "{'ner': 58.35624298802872}\n"
     ]
    },
    {
     "name": "stderr",
     "output_type": "stream",
     "text": [
      "100%|███████████████████████████████████████████████████████████████████████████████████████████████████████████████████| 200/200 [00:09<00:00, 20.96it/s]\n",
      "  3%|███▌                                                                                                                 | 6/200 [00:00<00:04, 47.60it/s]"
     ]
    },
    {
     "name": "stdout",
     "output_type": "stream",
     "text": [
      "{'ner': 52.22067190654677}\n"
     ]
    },
    {
     "name": "stderr",
     "output_type": "stream",
     "text": [
      "100%|███████████████████████████████████████████████████████████████████████████████████████████████████████████████████| 200/200 [00:09<00:00, 21.00it/s]\n",
      "  1%|█▏                                                                                                                   | 2/200 [00:00<00:17, 11.33it/s]"
     ]
    },
    {
     "name": "stdout",
     "output_type": "stream",
     "text": [
      "{'ner': 63.96956399889418}\n"
     ]
    },
    {
     "name": "stderr",
     "output_type": "stream",
     "text": [
      "100%|███████████████████████████████████████████████████████████████████████████████████████████████████████████████████| 200/200 [00:09<00:00, 20.88it/s]\n",
      "  0%|                                                                                                                             | 0/200 [00:00<?, ?it/s]"
     ]
    },
    {
     "name": "stdout",
     "output_type": "stream",
     "text": [
      "{'ner': 58.38416035753534}\n"
     ]
    },
    {
     "name": "stderr",
     "output_type": "stream",
     "text": [
      "100%|███████████████████████████████████████████████████████████████████████████████████████████████████████████████████| 200/200 [00:09<00:00, 20.58it/s]\n",
      "  0%|                                                                                                                             | 0/200 [00:00<?, ?it/s]"
     ]
    },
    {
     "name": "stdout",
     "output_type": "stream",
     "text": [
      "{'ner': 65.81804861511327}\n"
     ]
    },
    {
     "name": "stderr",
     "output_type": "stream",
     "text": [
      "100%|███████████████████████████████████████████████████████████████████████████████████████████████████████████████████| 200/200 [00:09<00:00, 21.03it/s]\n",
      "  2%|██▉                                                                                                                  | 5/200 [00:00<00:04, 45.05it/s]"
     ]
    },
    {
     "name": "stdout",
     "output_type": "stream",
     "text": [
      "{'ner': 52.87053969391749}\n"
     ]
    },
    {
     "name": "stderr",
     "output_type": "stream",
     "text": [
      "100%|███████████████████████████████████████████████████████████████████████████████████████████████████████████████████| 200/200 [00:09<00:00, 20.97it/s]\n",
      "  2%|██▎                                                                                                                  | 4/200 [00:00<00:06, 28.71it/s]"
     ]
    },
    {
     "name": "stdout",
     "output_type": "stream",
     "text": [
      "{'ner': 50.848697283243546}\n"
     ]
    },
    {
     "name": "stderr",
     "output_type": "stream",
     "text": [
      "100%|███████████████████████████████████████████████████████████████████████████████████████████████████████████████████| 200/200 [00:09<00:00, 20.93it/s]\n",
      "  0%|                                                                                                                             | 0/200 [00:00<?, ?it/s]"
     ]
    },
    {
     "name": "stdout",
     "output_type": "stream",
     "text": [
      "{'ner': 43.699392392170935}\n"
     ]
    },
    {
     "name": "stderr",
     "output_type": "stream",
     "text": [
      "100%|███████████████████████████████████████████████████████████████████████████████████████████████████████████████████| 200/200 [00:09<00:00, 20.43it/s]\n",
      "  2%|██▉                                                                                                                  | 5/200 [00:00<00:03, 48.90it/s]"
     ]
    },
    {
     "name": "stdout",
     "output_type": "stream",
     "text": [
      "{'ner': 45.7807339430223}\n"
     ]
    },
    {
     "name": "stderr",
     "output_type": "stream",
     "text": [
      "100%|███████████████████████████████████████████████████████████████████████████████████████████████████████████████████| 200/200 [00:09<00:00, 20.80it/s]"
     ]
    },
    {
     "name": "stdout",
     "output_type": "stream",
     "text": [
      "{'ner': 74.35562164482766}\n"
     ]
    },
    {
     "name": "stderr",
     "output_type": "stream",
     "text": [
      "\n"
     ]
    }
   ],
   "source": [
    "n_iter = 100\n",
    "optimizer = nlp1.begin_training()\n",
    "\n",
    "for itn in range(n_iter):\n",
    "    random.shuffle(training_data)\n",
    "    losses = {}\n",
    "    \n",
    "    for text, annotations in tqdm(training_data):\n",
    "        example = Example.from_dict(nlp1.make_doc(text), annotations)\n",
    "        nlp1.update(\n",
    "            [example],  # batch of examples\n",
    "            drop=0.2,  # dropout - make it harder to memorise data\n",
    "            sgd=optimizer,  # callable to update weights\n",
    "            losses=losses)\n",
    "    print(losses)"
   ]
  },
  {
   "cell_type": "markdown",
   "id": "bf56139b-39a9-4236-a364-150873fc9767",
   "metadata": {},
   "source": [
    "The training process will take about twenty minutes or less. "
   ]
  },
  {
   "cell_type": "markdown",
   "id": "bd0b5243-218b-47e3-a95c-915d638f2f6c",
   "metadata": {},
   "source": [
    "Then you can check the results using the spaCy ‘ent’ visualizer."
   ]
  },
  {
   "cell_type": "code",
   "execution_count": 13,
   "id": "52f0eee7-338d-4e69-9e12-bf0a32a95d0e",
   "metadata": {},
   "outputs": [
    {
     "data": {
      "text/html": [
       "<span class=\"tex2jax_ignore\"><!DOCTYPE html>\n",
       "<html lang=\"en\">\n",
       "    <head>\n",
       "        <title>displaCy</title>\n",
       "    </head>\n",
       "\n",
       "    <body style=\"font-size: 16px; font-family: -apple-system, BlinkMacSystemFont, 'Segoe UI', Helvetica, Arial, sans-serif, 'Apple Color Emoji', 'Segoe UI Emoji', 'Segoe UI Symbol'; padding: 4rem 2rem; direction: ltr\">\n",
       "<figure style=\"margin-bottom: 6rem\">\n",
       "<div class=\"entities\" style=\"line-height: 2.5; direction: ltr\">\n",
       "<mark class=\"entity\" style=\"background: #ddd; padding: 0.45em 0.6em; margin: 0 0.25em; line-height: 1; border-radius: 0.35em;\">\n",
       "    govardhana k\n",
       "    <span style=\"font-size: 0.8em; font-weight: bold; line-height: 1; border-radius: 0.35em; vertical-align: middle; margin-left: 0.5rem\">Name</span>\n",
       "</mark>\n",
       "~\n",
       "<mark class=\"entity\" style=\"background: #ddd; padding: 0.45em 0.6em; margin: 0 0.25em; line-height: 1; border-radius: 0.35em;\">\n",
       "    senior software engineer~~bengaluru\n",
       "    <span style=\"font-size: 0.8em; font-weight: bold; line-height: 1; border-radius: 0.35em; vertical-align: middle; margin-left: 0.5rem\">Jobs</span>\n",
       "</mark>\n",
       ", karnataka, \n",
       "<mark class=\"entity\" style=\"background: #ddd; padding: 0.45em 0.6em; margin: 0 0.25em; line-height: 1; border-radius: 0.35em;\">\n",
       "    karnataka\n",
       "    <span style=\"font-size: 0.8em; font-weight: bold; line-height: 1; border-radius: 0.35em; vertical-align: middle; margin-left: 0.5rem\">Hometown</span>\n",
       "</mark>\n",
       " - email me on indeed: indeed.com/r/govardhana-k/~b2de315d95905b68~~total \n",
       "<mark class=\"entity\" style=\"background: #ddd; padding: 0.45em 0.6em; margin: 0 0.25em; line-height: 1; border-radius: 0.35em;\">\n",
       "    it experience 5 years 6 months\n",
       "    <span style=\"font-size: 0.8em; font-weight: bold; line-height: 1; border-radius: 0.35em; vertical-align: middle; margin-left: 0.5rem\">Experience</span>\n",
       "</mark>\n",
       "~cloud lending solutions inc 4 month • \n",
       "<mark class=\"entity\" style=\"background: #ddd; padding: 0.45em 0.6em; margin: 0 0.25em; line-height: 1; border-radius: 0.35em;\">\n",
       "    salesforce developer\n",
       "    <span style=\"font-size: 0.8em; font-weight: bold; line-height: 1; border-radius: 0.35em; vertical-align: middle; margin-left: 0.5rem\">Jobs</span>\n",
       "</mark>\n",
       "~oracle 5 years 2 month • \n",
       "<mark class=\"entity\" style=\"background: #ddd; padding: 0.45em 0.6em; margin: 0 0.25em; line-height: 1; border-radius: 0.35em;\">\n",
       "    core java developer\n",
       "    <span style=\"font-size: 0.8em; font-weight: bold; line-height: 1; border-radius: 0.35em; vertical-align: middle; margin-left: 0.5rem\">Skills</span>\n",
       "</mark>\n",
       "~languages core \n",
       "<mark class=\"entity\" style=\"background: #ddd; padding: 0.45em 0.6em; margin: 0 0.25em; line-height: 1; border-radius: 0.35em;\">\n",
       "    java\n",
       "    <span style=\"font-size: 0.8em; font-weight: bold; line-height: 1; border-radius: 0.35em; vertical-align: middle; margin-left: 0.5rem\">Skills</span>\n",
       "</mark>\n",
       ", \n",
       "<mark class=\"entity\" style=\"background: #ddd; padding: 0.45em 0.6em; margin: 0 0.25em; line-height: 1; border-radius: 0.35em;\">\n",
       "    go lang\n",
       "    <span style=\"font-size: 0.8em; font-weight: bold; line-height: 1; border-radius: 0.35em; vertical-align: middle; margin-left: 0.5rem\">Skills</span>\n",
       "</mark>\n",
       "~oracle pl-sql programming,~sales force developer with apex.~~designations &amp; promotions~~willing to relocate: anywhere~~work experience~~senior software engineer~~cloud lending solutions -  bangalore, karnataka -~~january 2018 to present~~present~~senior consultant~~oracle -  bangalore, karnataka -~~november 2016 to december 2017~~staff consultant~~oracle -  bangalore, karnataka -~~january 2014 to october 2016~~associate consultant~~oracle -  bangalore, karnataka -~~november 2012 to december 2013~~education~~b.e in computer science engineering~~adithya institute of technology -  tamil nadu~~september 2008 to june 2012~~https://www.indeed.com/r/govardhana-k/b2de315d95905b68?isid=rex-download&amp;ikw=download-top&amp;co=in~https://www.indeed.com/r/govardhana-k/b2de315d95905b68?isid=rex-download&amp;ikw=download-top&amp;co=in~~~skills~~apex. (less than 1 year), \n",
       "<mark class=\"entity\" style=\"background: #ddd; padding: 0.45em 0.6em; margin: 0 0.25em; line-height: 1; border-radius: 0.35em;\">\n",
       "    data structures\n",
       "    <span style=\"font-size: 0.8em; font-weight: bold; line-height: 1; border-radius: 0.35em; vertical-align: middle; margin-left: 0.5rem\">Skills</span>\n",
       "</mark>\n",
       " (3 years), \n",
       "<mark class=\"entity\" style=\"background: #ddd; padding: 0.45em 0.6em; margin: 0 0.25em; line-height: 1; border-radius: 0.35em;\">\n",
       "    flexcube\n",
       "    <span style=\"font-size: 0.8em; font-weight: bold; line-height: 1; border-radius: 0.35em; vertical-align: middle; margin-left: 0.5rem\">Skills</span>\n",
       "</mark>\n",
       " (5 years), \n",
       "<mark class=\"entity\" style=\"background: #ddd; padding: 0.45em 0.6em; margin: 0 0.25em; line-height: 1; border-radius: 0.35em;\">\n",
       "    oracle\n",
       "    <span style=\"font-size: 0.8em; font-weight: bold; line-height: 1; border-radius: 0.35em; vertical-align: middle; margin-left: 0.5rem\">Skills</span>\n",
       "</mark>\n",
       " (5 years),~algorithms (3 years)~~links~~https://www.linkedin.com/in/govardhana-k-61024944/~~additional information~~technical proficiency:~~languages: \n",
       "<mark class=\"entity\" style=\"background: #ddd; padding: 0.45em 0.6em; margin: 0 0.25em; line-height: 1; border-radius: 0.35em;\">\n",
       "    core java\n",
       "    <span style=\"font-size: 0.8em; font-weight: bold; line-height: 1; border-radius: 0.35em; vertical-align: middle; margin-left: 0.5rem\">Skills</span>\n",
       "</mark>\n",
       ", \n",
       "<mark class=\"entity\" style=\"background: #ddd; padding: 0.45em 0.6em; margin: 0 0.25em; line-height: 1; border-radius: 0.35em;\">\n",
       "    go lang\n",
       "    <span style=\"font-size: 0.8em; font-weight: bold; line-height: 1; border-radius: 0.35em; vertical-align: middle; margin-left: 0.5rem\">Skills</span>\n",
       "</mark>\n",
       ", \n",
       "<mark class=\"entity\" style=\"background: #ddd; padding: 0.45em 0.6em; margin: 0 0.25em; line-height: 1; border-radius: 0.35em;\">\n",
       "    data structures &amp; algorithms\n",
       "    <span style=\"font-size: 0.8em; font-weight: bold; line-height: 1; border-radius: 0.35em; vertical-align: middle; margin-left: 0.5rem\">Skills</span>\n",
       "</mark>\n",
       ", oracle~pl-sql programming, sales force with apex.~tools: \n",
       "<mark class=\"entity\" style=\"background: #ddd; padding: 0.45em 0.6em; margin: 0 0.25em; line-height: 1; border-radius: 0.35em;\">\n",
       "    radtool\n",
       "    <span style=\"font-size: 0.8em; font-weight: bold; line-height: 1; border-radius: 0.35em; vertical-align: middle; margin-left: 0.5rem\">Skills</span>\n",
       "</mark>\n",
       ", \n",
       "<mark class=\"entity\" style=\"background: #ddd; padding: 0.45em 0.6em; margin: 0 0.25em; line-height: 1; border-radius: 0.35em;\">\n",
       "    jdeveloper\n",
       "    <span style=\"font-size: 0.8em; font-weight: bold; line-height: 1; border-radius: 0.35em; vertical-align: middle; margin-left: 0.5rem\">Skills</span>\n",
       "</mark>\n",
       ", \n",
       "<mark class=\"entity\" style=\"background: #ddd; padding: 0.45em 0.6em; margin: 0 0.25em; line-height: 1; border-radius: 0.35em;\">\n",
       "    netbeans\n",
       "    <span style=\"font-size: 0.8em; font-weight: bold; line-height: 1; border-radius: 0.35em; vertical-align: middle; margin-left: 0.5rem\">Skills</span>\n",
       "</mark>\n",
       ", \n",
       "<mark class=\"entity\" style=\"background: #ddd; padding: 0.45em 0.6em; margin: 0 0.25em; line-height: 1; border-radius: 0.35em;\">\n",
       "    eclipse\n",
       "    <span style=\"font-size: 0.8em; font-weight: bold; line-height: 1; border-radius: 0.35em; vertical-align: middle; margin-left: 0.5rem\">Skills</span>\n",
       "</mark>\n",
       ", \n",
       "<mark class=\"entity\" style=\"background: #ddd; padding: 0.45em 0.6em; margin: 0 0.25em; line-height: 1; border-radius: 0.35em;\">\n",
       "    sql developer,~pl/sql developer\n",
       "    <span style=\"font-size: 0.8em; font-weight: bold; line-height: 1; border-radius: 0.35em; vertical-align: middle; margin-left: 0.5rem\">Skills</span>\n",
       "</mark>\n",
       ", \n",
       "<mark class=\"entity\" style=\"background: #ddd; padding: 0.45em 0.6em; margin: 0 0.25em; line-height: 1; border-radius: 0.35em;\">\n",
       "    winscp\n",
       "    <span style=\"font-size: 0.8em; font-weight: bold; line-height: 1; border-radius: 0.35em; vertical-align: middle; margin-left: 0.5rem\">Skills</span>\n",
       "</mark>\n",
       ", \n",
       "<mark class=\"entity\" style=\"background: #ddd; padding: 0.45em 0.6em; margin: 0 0.25em; line-height: 1; border-radius: 0.35em;\">\n",
       "    putty\n",
       "    <span style=\"font-size: 0.8em; font-weight: bold; line-height: 1; border-radius: 0.35em; vertical-align: middle; margin-left: 0.5rem\">Skills</span>\n",
       "</mark>\n",
       "~web technologies: \n",
       "<mark class=\"entity\" style=\"background: #ddd; padding: 0.45em 0.6em; margin: 0 0.25em; line-height: 1; border-radius: 0.35em;\">\n",
       "    javascript\n",
       "    <span style=\"font-size: 0.8em; font-weight: bold; line-height: 1; border-radius: 0.35em; vertical-align: middle; margin-left: 0.5rem\">Skills</span>\n",
       "</mark>\n",
       ", \n",
       "<mark class=\"entity\" style=\"background: #ddd; padding: 0.45em 0.6em; margin: 0 0.25em; line-height: 1; border-radius: 0.35em;\">\n",
       "    xml\n",
       "    <span style=\"font-size: 0.8em; font-weight: bold; line-height: 1; border-radius: 0.35em; vertical-align: middle; margin-left: 0.5rem\">Skills</span>\n",
       "</mark>\n",
       ", \n",
       "<mark class=\"entity\" style=\"background: #ddd; padding: 0.45em 0.6em; margin: 0 0.25em; line-height: 1; border-radius: 0.35em;\">\n",
       "    html\n",
       "    <span style=\"font-size: 0.8em; font-weight: bold; line-height: 1; border-radius: 0.35em; vertical-align: middle; margin-left: 0.5rem\">Skills</span>\n",
       "</mark>\n",
       ", webservice~~operating systems: \n",
       "<mark class=\"entity\" style=\"background: #ddd; padding: 0.45em 0.6em; margin: 0 0.25em; line-height: 1; border-radius: 0.35em;\">\n",
       "    linux\n",
       "    <span style=\"font-size: 0.8em; font-weight: bold; line-height: 1; border-radius: 0.35em; vertical-align: middle; margin-left: 0.5rem\">Skills</span>\n",
       "</mark>\n",
       ", \n",
       "<mark class=\"entity\" style=\"background: #ddd; padding: 0.45em 0.6em; margin: 0 0.25em; line-height: 1; border-radius: 0.35em;\">\n",
       "    windows\n",
       "    <span style=\"font-size: 0.8em; font-weight: bold; line-height: 1; border-radius: 0.35em; vertical-align: middle; margin-left: 0.5rem\">Skills</span>\n",
       "</mark>\n",
       "~version control system svn &amp; \n",
       "<mark class=\"entity\" style=\"background: #ddd; padding: 0.45em 0.6em; margin: 0 0.25em; line-height: 1; border-radius: 0.35em;\">\n",
       "    git-hub\n",
       "    <span style=\"font-size: 0.8em; font-weight: bold; line-height: 1; border-radius: 0.35em; vertical-align: middle; margin-left: 0.5rem\">Skills</span>\n",
       "</mark>\n",
       "~databases: oracle~middleware: web logic, oc4j~product flexcube: oracle flexcube versions 10.x, 11.x and 12.x~~https://www.linkedin.com/in/govardhana-k-61024944/</div>\n",
       "</figure>\n",
       "</body>\n",
       "</html></span>"
      ],
      "text/plain": [
       "<IPython.core.display.HTML object>"
      ]
     },
     "metadata": {},
     "output_type": "display_data"
    },
    {
     "name": "stdout",
     "output_type": "stream",
     "text": [
      "\n",
      "Using the 'ent' visualizer\n",
      "Serving on http://0.0.0.0:5000 ...\n",
      "\n",
      "Shutting down server on port 5000.\n"
     ]
    }
   ],
   "source": [
    "test1 = json.loads(test[0])['data'].lower()\n",
    "doc = nlp1(test1)\n",
    "spacy.displacy.serve(doc, style=\"ent\")"
   ]
  }
 ],
 "metadata": {
  "kernelspec": {
   "display_name": "Python 3",
   "language": "python",
   "name": "python3"
  },
  "language_info": {
   "codemirror_mode": {
    "name": "ipython",
    "version": 3
   },
   "file_extension": ".py",
   "mimetype": "text/x-python",
   "name": "python",
   "nbconvert_exporter": "python",
   "pygments_lexer": "ipython3",
   "version": "3.8.8"
  }
 },
 "nbformat": 4,
 "nbformat_minor": 5
}
